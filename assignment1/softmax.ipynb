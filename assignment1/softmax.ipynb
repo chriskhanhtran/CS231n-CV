{
 "cells": [
  {
   "cell_type": "markdown",
   "metadata": {
    "tags": [
     "pdf-title"
    ]
   },
   "source": [
    "# Softmax exercise\n",
    "\n",
    "*Complete and hand in this completed worksheet (including its outputs and any supporting code outside of the worksheet) with your assignment submission. For more details see the [assignments page](http://vision.stanford.edu/teaching/cs231n/assignments.html) on the course website.*\n",
    "\n",
    "This exercise is analogous to the SVM exercise. You will:\n",
    "\n",
    "- implement a fully-vectorized **loss function** for the Softmax classifier\n",
    "- implement the fully-vectorized expression for its **analytic gradient**\n",
    "- **check your implementation** with numerical gradient\n",
    "- use a validation set to **tune the learning rate and regularization** strength\n",
    "- **optimize** the loss function with **SGD**\n",
    "- **visualize** the final learned weights\n"
   ]
  },
  {
   "cell_type": "code",
   "execution_count": 1,
   "metadata": {
    "tags": [
     "pdf-ignore"
    ]
   },
   "outputs": [],
   "source": [
    "import random\n",
    "import numpy as np\n",
    "from cs231n.data_utils import load_CIFAR10\n",
    "import matplotlib.pyplot as plt\n",
    "\n",
    "%matplotlib inline\n",
    "plt.rcParams[\"figure.figsize\"] = (10.0, 8.0)  # set default size of plots\n",
    "plt.rcParams[\"image.interpolation\"] = \"nearest\"\n",
    "plt.rcParams[\"image.cmap\"] = \"gray\"\n",
    "\n",
    "# for auto-reloading extenrnal modules\n",
    "# see http://stackoverflow.com/questions/1907993/autoreload-of-modules-in-ipython\n",
    "%load_ext autoreload\n",
    "%autoreload 2"
   ]
  },
  {
   "cell_type": "code",
   "execution_count": 2,
   "metadata": {
    "tags": [
     "pdf-ignore"
    ]
   },
   "outputs": [
    {
     "name": "stdout",
     "output_type": "stream",
     "text": [
      "Train data shape:  (49000, 3073)\n",
      "Train labels shape:  (49000,)\n",
      "Validation data shape:  (1000, 3073)\n",
      "Validation labels shape:  (1000,)\n",
      "Test data shape:  (1000, 3073)\n",
      "Test labels shape:  (1000,)\n",
      "dev data shape:  (500, 3073)\n",
      "dev labels shape:  (500,)\n"
     ]
    }
   ],
   "source": [
    "def get_CIFAR10_data(\n",
    "    num_training=49000, num_validation=1000, num_test=1000, num_dev=500\n",
    "):\n",
    "    \"\"\"\n",
    "    Load the CIFAR-10 dataset from disk and perform preprocessing to prepare\n",
    "    it for the linear classifier. These are the same steps as we used for the\n",
    "    SVM, but condensed to a single function.  \n",
    "    \"\"\"\n",
    "    # Load the raw CIFAR-10 data\n",
    "    cifar10_dir = \"cs231n/datasets/cifar-10-batches-py\"\n",
    "\n",
    "    # Cleaning up variables to prevent loading data multiple times (which may cause memory issue)\n",
    "    try:\n",
    "        del X_train, y_train\n",
    "        del X_test, y_test\n",
    "        print(\"Clear previously loaded data.\")\n",
    "    except:\n",
    "        pass\n",
    "\n",
    "    X_train, y_train, X_test, y_test = load_CIFAR10(cifar10_dir)\n",
    "\n",
    "    # subsample the data\n",
    "    mask = list(range(num_training, num_training + num_validation))\n",
    "    X_val = X_train[mask]\n",
    "    y_val = y_train[mask]\n",
    "    mask = list(range(num_training))\n",
    "    X_train = X_train[mask]\n",
    "    y_train = y_train[mask]\n",
    "    mask = list(range(num_test))\n",
    "    X_test = X_test[mask]\n",
    "    y_test = y_test[mask]\n",
    "    mask = np.random.choice(num_training, num_dev, replace=False)\n",
    "    X_dev = X_train[mask]\n",
    "    y_dev = y_train[mask]\n",
    "\n",
    "    # Preprocessing: reshape the image data into rows\n",
    "    X_train = np.reshape(X_train, (X_train.shape[0], -1))\n",
    "    X_val = np.reshape(X_val, (X_val.shape[0], -1))\n",
    "    X_test = np.reshape(X_test, (X_test.shape[0], -1))\n",
    "    X_dev = np.reshape(X_dev, (X_dev.shape[0], -1))\n",
    "\n",
    "    # Normalize the data: subtract the mean image\n",
    "    mean_image = np.mean(X_train, axis=0)\n",
    "    X_train -= mean_image\n",
    "    X_val -= mean_image\n",
    "    X_test -= mean_image\n",
    "    X_dev -= mean_image\n",
    "\n",
    "    # add bias dimension and transform into columns\n",
    "    X_train = np.hstack([X_train, np.ones((X_train.shape[0], 1))])\n",
    "    X_val = np.hstack([X_val, np.ones((X_val.shape[0], 1))])\n",
    "    X_test = np.hstack([X_test, np.ones((X_test.shape[0], 1))])\n",
    "    X_dev = np.hstack([X_dev, np.ones((X_dev.shape[0], 1))])\n",
    "\n",
    "    return X_train, y_train, X_val, y_val, X_test, y_test, X_dev, y_dev\n",
    "\n",
    "\n",
    "# Invoke the above function to get our data.\n",
    "X_train, y_train, X_val, y_val, X_test, y_test, X_dev, y_dev = get_CIFAR10_data()\n",
    "print(\"Train data shape: \", X_train.shape)\n",
    "print(\"Train labels shape: \", y_train.shape)\n",
    "print(\"Validation data shape: \", X_val.shape)\n",
    "print(\"Validation labels shape: \", y_val.shape)\n",
    "print(\"Test data shape: \", X_test.shape)\n",
    "print(\"Test labels shape: \", y_test.shape)\n",
    "print(\"dev data shape: \", X_dev.shape)\n",
    "print(\"dev labels shape: \", y_dev.shape)"
   ]
  },
  {
   "cell_type": "markdown",
   "metadata": {},
   "source": [
    "## Softmax Classifier\n",
    "\n",
    "Your code for this section will all be written inside **cs231n/classifiers/softmax.py**. \n"
   ]
  },
  {
   "cell_type": "code",
   "execution_count": 9,
   "metadata": {},
   "outputs": [
    {
     "name": "stdout",
     "output_type": "stream",
     "text": [
      "loss: 2.347554\n",
      "sanity check: 2.302585\n"
     ]
    }
   ],
   "source": [
    "# First implement the naive softmax loss function with nested loops.\n",
    "# Open the file cs231n/classifiers/softmax.py and implement the\n",
    "# softmax_loss_naive function.\n",
    "\n",
    "from cs231n.classifiers.softmax import softmax_loss_naive\n",
    "import time\n",
    "\n",
    "# Generate a random softmax weight matrix and use it to compute the loss.\n",
    "W = np.random.randn(3073, 10) * 0.0001\n",
    "loss, grad = softmax_loss_naive(W, X_dev, y_dev, 0.0)\n",
    "\n",
    "# As a rough sanity check, our loss should be something close to -log(0.1).\n",
    "print(\"loss: %f\" % loss)\n",
    "print(\"sanity check: %f\" % (-np.log(0.1)))"
   ]
  },
  {
   "cell_type": "markdown",
   "metadata": {
    "tags": [
     "pdf-inline"
    ]
   },
   "source": [
    "**Inline Question 1**\n",
    "\n",
    "Why do we expect our loss to be close to -log(0.1)? Explain briefly.**\n",
    "\n",
    "$\\color{blue}{\\textit Your Answer:}$ When W is initialized randomly with small values and the network hasn't learned anything yet, all classes will receive similar unnormalized scores. Therefore, the normalized score for each class is 1/10 and the loss is -log(0.1).\n",
    "\n"
   ]
  },
  {
   "cell_type": "code",
   "execution_count": 10,
   "metadata": {},
   "outputs": [
    {
     "name": "stdout",
     "output_type": "stream",
     "text": [
      "numerical: 0.493029 analytic: 0.493029, relative error: 3.892039e-08\n",
      "numerical: -2.447352 analytic: -2.447352, relative error: 1.189055e-08\n",
      "numerical: -1.679085 analytic: -1.679085, relative error: 1.682038e-08\n",
      "numerical: -1.057986 analytic: -1.057986, relative error: 3.692744e-08\n",
      "numerical: 0.110929 analytic: 0.110929, relative error: 2.642991e-07\n",
      "numerical: -2.052758 analytic: -2.052758, relative error: 1.489269e-08\n",
      "numerical: 3.950965 analytic: 3.950965, relative error: 1.293154e-08\n",
      "numerical: -1.604404 analytic: -1.604404, relative error: 1.246712e-08\n",
      "numerical: 0.228320 analytic: 0.228320, relative error: 1.696540e-07\n",
      "numerical: -0.086718 analytic: -0.086718, relative error: 5.311965e-07\n",
      "numerical: -4.075600 analytic: -4.075600, relative error: 6.292897e-09\n",
      "numerical: 1.409545 analytic: 1.409545, relative error: 5.957859e-08\n",
      "numerical: -0.765712 analytic: -0.765713, relative error: 5.755745e-08\n",
      "numerical: 3.168052 analytic: 3.168052, relative error: 7.106043e-09\n",
      "numerical: 1.243707 analytic: 1.243707, relative error: 3.426712e-08\n",
      "numerical: -4.368996 analytic: -4.368996, relative error: 5.885210e-10\n",
      "numerical: -1.643174 analytic: -1.643174, relative error: 5.121979e-08\n",
      "numerical: 1.500178 analytic: 1.500177, relative error: 5.517386e-08\n",
      "numerical: -1.934695 analytic: -1.934695, relative error: 3.022076e-08\n",
      "numerical: -0.622248 analytic: -0.622248, relative error: 9.267885e-09\n"
     ]
    }
   ],
   "source": [
    "# Complete the implementation of softmax_loss_naive and implement a (naive)\n",
    "# version of the gradient that uses nested loops.\n",
    "loss, grad = softmax_loss_naive(W, X_dev, y_dev, 0.0)\n",
    "\n",
    "# As we did for the SVM, use numeric gradient checking as a debugging tool.\n",
    "# The numeric gradient should be close to the analytic gradient.\n",
    "from cs231n.gradient_check import grad_check_sparse\n",
    "\n",
    "f = lambda w: softmax_loss_naive(w, X_dev, y_dev, 0.0)[0]\n",
    "grad_numerical = grad_check_sparse(f, W, grad, 10)\n",
    "\n",
    "# similar to SVM case, do another gradient check with regularization\n",
    "loss, grad = softmax_loss_naive(W, X_dev, y_dev, 5e1)\n",
    "f = lambda w: softmax_loss_naive(w, X_dev, y_dev, 5e1)[0]\n",
    "grad_numerical = grad_check_sparse(f, W, grad, 10)"
   ]
  },
  {
   "cell_type": "code",
   "execution_count": 17,
   "metadata": {},
   "outputs": [
    {
     "name": "stdout",
     "output_type": "stream",
     "text": [
      "naive loss: 2.347554e+00 computed in 0.157769s\n",
      "vectorized loss: 2.347554e+00 computed in 0.009998s\n",
      "Loss difference: 0.000000\n",
      "Gradient difference: 0.000000\n"
     ]
    }
   ],
   "source": [
    "# Now that we have a naive implementation of the softmax loss function and its gradient,\n",
    "# implement a vectorized version in softmax_loss_vectorized.\n",
    "# The two versions should compute the same results, but the vectorized version should be\n",
    "# much faster.\n",
    "tic = time.time()\n",
    "loss_naive, grad_naive = softmax_loss_naive(W, X_dev, y_dev, 0.000005)\n",
    "toc = time.time()\n",
    "print(\"naive loss: %e computed in %fs\" % (loss_naive, toc - tic))\n",
    "\n",
    "from cs231n.classifiers.softmax import softmax_loss_vectorized\n",
    "\n",
    "tic = time.time()\n",
    "loss_vectorized, grad_vectorized = softmax_loss_vectorized(W, X_dev, y_dev, 0.000005)\n",
    "toc = time.time()\n",
    "print(\"vectorized loss: %e computed in %fs\" % (loss_vectorized, toc - tic))\n",
    "\n",
    "# As we did for the SVM, we use the Frobenius norm to compare the two versions\n",
    "# of the gradient.\n",
    "grad_difference = np.linalg.norm(grad_naive - grad_vectorized, ord=\"fro\")\n",
    "print(\"Loss difference: %f\" % np.abs(loss_naive - loss_vectorized))\n",
    "print(\"Gradient difference: %f\" % grad_difference)"
   ]
  },
  {
   "cell_type": "code",
   "execution_count": 22,
   "metadata": {
    "tags": [
     "code"
    ]
   },
   "outputs": [
    {
     "name": "stdout",
     "output_type": "stream",
     "text": [
      "lr: 5e-08, reg: 1000.0, train accuracy: 0.22375510204081633, val accuracy: 0.232\n",
      "lr: 5e-08, reg: 10000.0, train accuracy: 0.29714285714285715, val accuracy: 0.303\n",
      "lr: 5e-08, reg: 25000.0, train accuracy: 0.3254489795918367, val accuracy: 0.338\n",
      "lr: 5e-08, reg: 50000.0, train accuracy: 0.30720408163265306, val accuracy: 0.322\n",
      "lr: 1e-07, reg: 1000.0, train accuracy: 0.26916326530612245, val accuracy: 0.283\n",
      "lr: 1e-07, reg: 10000.0, train accuracy: 0.35214285714285715, val accuracy: 0.364\n",
      "lr: 1e-07, reg: 25000.0, train accuracy: 0.3243265306122449, val accuracy: 0.334\n",
      "lr: 1e-07, reg: 50000.0, train accuracy: 0.3126122448979592, val accuracy: 0.326\n",
      "lr: 5e-07, reg: 1000.0, train accuracy: 0.39012244897959186, val accuracy: 0.4\n",
      "lr: 5e-07, reg: 10000.0, train accuracy: 0.3515714285714286, val accuracy: 0.368\n",
      "lr: 5e-07, reg: 25000.0, train accuracy: 0.3119795918367347, val accuracy: 0.336\n",
      "lr: 5e-07, reg: 50000.0, train accuracy: 0.3069795918367347, val accuracy: 0.327\n",
      "lr: 1e-06, reg: 1000.0, train accuracy: 0.4003265306122449, val accuracy: 0.402\n",
      "lr: 1e-06, reg: 10000.0, train accuracy: 0.3468775510204082, val accuracy: 0.351\n",
      "lr: 1e-06, reg: 25000.0, train accuracy: 0.3210612244897959, val accuracy: 0.327\n",
      "lr: 1e-06, reg: 50000.0, train accuracy: 0.3066530612244898, val accuracy: 0.306\n",
      "lr 5.000000e-08 reg 1.000000e+03 train accuracy: 0.223755 val accuracy: 0.232000\n",
      "lr 5.000000e-08 reg 1.000000e+04 train accuracy: 0.297143 val accuracy: 0.303000\n",
      "lr 5.000000e-08 reg 2.500000e+04 train accuracy: 0.325449 val accuracy: 0.338000\n",
      "lr 5.000000e-08 reg 5.000000e+04 train accuracy: 0.307204 val accuracy: 0.322000\n",
      "lr 1.000000e-07 reg 1.000000e+03 train accuracy: 0.269163 val accuracy: 0.283000\n",
      "lr 1.000000e-07 reg 1.000000e+04 train accuracy: 0.352143 val accuracy: 0.364000\n",
      "lr 1.000000e-07 reg 2.500000e+04 train accuracy: 0.324327 val accuracy: 0.334000\n",
      "lr 1.000000e-07 reg 5.000000e+04 train accuracy: 0.312612 val accuracy: 0.326000\n",
      "lr 5.000000e-07 reg 1.000000e+03 train accuracy: 0.390122 val accuracy: 0.400000\n",
      "lr 5.000000e-07 reg 1.000000e+04 train accuracy: 0.351571 val accuracy: 0.368000\n",
      "lr 5.000000e-07 reg 2.500000e+04 train accuracy: 0.311980 val accuracy: 0.336000\n",
      "lr 5.000000e-07 reg 5.000000e+04 train accuracy: 0.306980 val accuracy: 0.327000\n",
      "lr 1.000000e-06 reg 1.000000e+03 train accuracy: 0.400327 val accuracy: 0.402000\n",
      "lr 1.000000e-06 reg 1.000000e+04 train accuracy: 0.346878 val accuracy: 0.351000\n",
      "lr 1.000000e-06 reg 2.500000e+04 train accuracy: 0.321061 val accuracy: 0.327000\n",
      "lr 1.000000e-06 reg 5.000000e+04 train accuracy: 0.306653 val accuracy: 0.306000\n",
      "best validation accuracy achieved during cross-validation: 0.402000\n"
     ]
    }
   ],
   "source": [
    "# Use the validation set to tune hyperparameters (regularization strength and\n",
    "# learning rate). You should experiment with different ranges for the learning\n",
    "# rates and regularization strengths; if you are careful you should be able to\n",
    "# get a classification accuracy of over 0.35 on the validation set.\n",
    "from cs231n.classifiers import Softmax\n",
    "\n",
    "results = {}\n",
    "best_val = -1\n",
    "best_softmax = None\n",
    "learning_rates = [5e-8, 1e-7, 5e-7, 1e-6]\n",
    "regularization_strengths = [1e3, 1e4, 2.5e4, 5e4]\n",
    "\n",
    "################################################################################\n",
    "# TODO:                                                                        #\n",
    "# Use the validation set to set the learning rate and regularization strength. #\n",
    "# This should be identical to the validation that you did for the SVM; save    #\n",
    "# the best trained softmax classifer in best_softmax.                          #\n",
    "################################################################################\n",
    "# *****START OF YOUR CODE (DO NOT DELETE/MODIFY THIS LINE)*****\n",
    "for lr in learning_rates:\n",
    "    for reg in regularization_strengths:\n",
    "        softmax = Softmax()\n",
    "        softmax.train(\n",
    "            X_train, y_train, learning_rate=lr, reg=reg, num_iters=1500, verbose=False\n",
    "        )\n",
    "\n",
    "        # Performance on train set\n",
    "        y_pred_train = softmax.predict(X_train)\n",
    "        train_accuracy = np.mean(y_pred_train == y_train)\n",
    "\n",
    "        # Performance on validation set\n",
    "        y_pred_val = softmax.predict(X_val)\n",
    "        val_accuracy = np.mean(y_pred_val == y_val)\n",
    "\n",
    "        # Save results\n",
    "        results[(lr, reg)] = (train_accuracy, val_accuracy)\n",
    "        print(\n",
    "            f\"lr: {lr}, reg: {reg}, \\\n",
    "train accuracy: {train_accuracy}, val accuracy: {val_accuracy}\"\n",
    "        )\n",
    "        if val_accuracy > best_val:\n",
    "            best_val = val_accuracy\n",
    "            best_softmax = softmax\n",
    "\n",
    "# *****END OF YOUR CODE (DO NOT DELETE/MODIFY THIS LINE)*****\n",
    "\n",
    "# Print out results.\n",
    "for lr, reg in sorted(results):\n",
    "    train_accuracy, val_accuracy = results[(lr, reg)]\n",
    "    print(\n",
    "        \"lr %e reg %e train accuracy: %f val accuracy: %f\"\n",
    "        % (lr, reg, train_accuracy, val_accuracy)\n",
    "    )\n",
    "\n",
    "print(\"best validation accuracy achieved during cross-validation: %f\" % best_val)"
   ]
  },
  {
   "cell_type": "code",
   "execution_count": 23,
   "metadata": {},
   "outputs": [
    {
     "name": "stdout",
     "output_type": "stream",
     "text": [
      "softmax on raw pixels final test set accuracy: 0.387000\n"
     ]
    }
   ],
   "source": [
    "# evaluate on test set\n",
    "# Evaluate the best softmax on test set\n",
    "y_test_pred = best_softmax.predict(X_test)\n",
    "test_accuracy = np.mean(y_test == y_test_pred)\n",
    "print(\"softmax on raw pixels final test set accuracy: %f\" % (test_accuracy,))"
   ]
  },
  {
   "cell_type": "markdown",
   "metadata": {
    "tags": [
     "pdf-inline"
    ]
   },
   "source": [
    "**Inline Question 2** - *True or False*\n",
    "\n",
    "Suppose the overall training loss is defined as the sum of the per-datapoint loss over all training examples. It is possible to add a new datapoint to a training set that would leave the SVM loss unchanged, but this is not the case with the Softmax classifier loss.\n",
    "\n",
    "$\\color{blue}{\\textit Your Answer:}$ True\n",
    "\n",
    "\n",
    "$\\color{blue}{\\textit Your Explanation:}$ If the SVM model classifies the new datapoint correctly with all scores of wrong labels less than score of the true label minus 1, the loss of the new datapoint is zero. For the Softmax model, the loss of the new datapoint is equal to negative log-likelihood of the correct label, which is always greater than 0."
   ]
  },
  {
   "cell_type": "code",
   "execution_count": 24,
   "metadata": {},
   "outputs": [
    {
     "data": {
      "image/png": "[encoded data removed]",
      "text/plain": [
       "<Figure size 432x288 with 10 Axes>"
      ]
     },
     "metadata": {
      "needs_background": "light"
     },
     "output_type": "display_data"
    }
   ],
   "source": [
    "# Visualize the learned weights for each class\n",
    "w = best_softmax.W[:-1, :]  # strip out the bias\n",
    "w = w.reshape(32, 32, 3, 10)\n",
    "\n",
    "w_min, w_max = np.min(w), np.max(w)\n",
    "\n",
    "classes = [\n",
    "    \"plane\",\n",
    "    \"car\",\n",
    "    \"bird\",\n",
    "    \"cat\",\n",
    "    \"deer\",\n",
    "    \"dog\",\n",
    "    \"frog\",\n",
    "    \"horse\",\n",
    "    \"ship\",\n",
    "    \"truck\",\n",
    "]\n",
    "for i in range(10):\n",
    "    plt.subplot(2, 5, i + 1)\n",
    "\n",
    "    # Rescale the weights to be between 0 and 255\n",
    "    wimg = 255.0 * (w[:, :, :, i].squeeze() - w_min) / (w_max - w_min)\n",
    "    plt.imshow(wimg.astype(\"uint8\"))\n",
    "    plt.axis(\"off\")\n",
    "    plt.title(classes[i])"
   ]
  }
 ],
 "metadata": {
  "kernelspec": {
   "display_name": "Python 3",
   "language": "python",
   "name": "python3"
  },
  "language_info": {
   "codemirror_mode": {
    "name": "ipython",
    "version": 3
   },
   "file_extension": ".py",
   "mimetype": "text/x-python",
   "name": "python",
   "nbconvert_exporter": "python",
   "pygments_lexer": "ipython3",
   "version": "3.7.4"
  }
 },
 "nbformat": 4,
 "nbformat_minor": 4
}
